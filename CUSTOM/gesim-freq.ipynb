{
 "cells": [
  {
   "cell_type": "code",
   "execution_count": 1,
   "metadata": {},
   "outputs": [],
   "source": [
    "# 09.24\n",
    "\n",
    "# 메모1 - BLAS 를 설치하면 훨씬 빨라진다고 한다\n",
    "  # https://radimrehurek.com/gensim/distributed.html\n",
    "\n",
    "\n",
    "\n",
    "# 변경된 gensim 라이브러리 설치하기\n",
    "'''\n",
    "  pip uninstall gensim\n",
    "  pip install git+https://github.com/acheul/gensim-w2v-folk.git\n",
    "'''\n",
    "\n",
    "# 변경된 gensim library의 WordVec에서는, setences_freq 인자 전달 가능:\n",
    "# [([word1, word2, ...], frequency)] 를 Word2Vec의 인풋으로 전달.\n",
    "\n",
    "'''\n",
    "예시:\n",
    "Word2Vec(\n",
    "  sentences_freq=[\n",
    "    (['english', 'was', 'british', 'in', 'the'], 10),\n",
    "    (['english', 'was', 'england', 'in', 'the'], 20),\n",
    "    ...\n",
    "  ],\n",
    "  ...\n",
    ")\n",
    "\n",
    "'''"
   ]
  },
  {
   "cell_type": "code",
   "execution_count": 2,
   "metadata": {},
   "outputs": [],
   "source": [
    "import numpy\n",
    "import scipy\n",
    "import cython\n",
    "import gensim\n",
    "from gensim import models, similarities\n",
    "from gensim.models.word2vec import Word2Vec\n",
    "import logging\n",
    "import os\n",
    "import re\n",
    "import sys\n",
    "import itertools\n",
    "import math\n",
    "from smart_open import smart_open\n",
    "from collections import Counter\n",
    "import time"
   ]
  },
  {
   "cell_type": "code",
   "execution_count": 16,
   "metadata": {},
   "outputs": [
    {
     "name": "stdout",
     "output_type": "stream",
     "text": [
      "4.3.2.dev0\n"
     ]
    }
   ],
   "source": [
    "print(gensim.__version__)"
   ]
  },
  {
   "cell_type": "code",
   "execution_count": 4,
   "metadata": {},
   "outputs": [
    {
     "name": "stdout",
     "output_type": "stream",
     "text": [
      "1901\n",
      "1901_small\n",
      "1901_small_unfold\n"
     ]
    }
   ],
   "source": [
    "dirname = \"../raw\"\n",
    "\n",
    "for fname in os.listdir(dirname):\n",
    "  print(fname)"
   ]
  },
  {
   "cell_type": "code",
   "execution_count": 5,
   "metadata": {},
   "outputs": [],
   "source": [
    "class ToFreq(object):\n",
    "  def __init__(self, dirname):\n",
    "    self.dirname = dirname\n",
    "\n",
    "  def make_data_freq_list(self, fname, limit=None):\n",
    "    data_freq = []\n",
    "\n",
    "    with smart_open(os.path.join(self.dirname, fname)) as fin:\n",
    "      for line in itertools.islice(fin, limit):\n",
    "        line = gensim.utils.to_unicode(line).split(\"\\t\")\n",
    "        if len(line)<2:\n",
    "          continue\n",
    "        ngram = line[0]\n",
    "        match_count = int(line[1])\n",
    "         # lower case the ngram, remove pos\n",
    "        processed_ngram = [word for word in ngram.lower().split()]\n",
    "\n",
    "        data_freq.append((processed_ngram, match_count))\n",
    "    return data_freq"
   ]
  },
  {
   "cell_type": "code",
   "execution_count": 6,
   "metadata": {},
   "outputs": [
    {
     "name": "stdout",
     "output_type": "stream",
     "text": [
      "3.3799567222595215\n",
      "310003\n"
     ]
    }
   ],
   "source": [
    "to_freq = ToFreq(dirname)\n",
    "fname = \"1901_small\"\n",
    "\n",
    "t = time.time()\n",
    "data_freq = to_freq.make_data_freq_list(fname)\n",
    "t = time.time()-t\n",
    "print(t)\n",
    "print(len(data_freq))"
   ]
  },
  {
   "cell_type": "code",
   "execution_count": 7,
   "metadata": {},
   "outputs": [
    {
     "name": "stdout",
     "output_type": "stream",
     "text": [
      "57.76492428779602\n"
     ]
    }
   ],
   "source": [
    "t = time.time()\n",
    "model = Word2Vec(sentences_freq=data_freq, sg=1, vector_size=300, window=5, min_count=1, workers=4, hs=0, negative=5)\n",
    "t = time.time()-t\n",
    "\n",
    "print(t)\n",
    "# 56.851245403289795"
   ]
  },
  {
   "cell_type": "code",
   "execution_count": 8,
   "metadata": {},
   "outputs": [],
   "source": [
    "model.save(\"./model_save/\" + '1901_small_freq')"
   ]
  },
  {
   "cell_type": "code",
   "execution_count": 9,
   "metadata": {},
   "outputs": [],
   "source": [
    "model = Word2Vec.load(\"./model_save/1901_small_freq\")"
   ]
  },
  {
   "cell_type": "code",
   "execution_count": 11,
   "metadata": {},
   "outputs": [
    {
     "name": "stdout",
     "output_type": "stream",
     "text": [
      "(23248, 300)\n",
      "23248\n"
     ]
    }
   ],
   "source": [
    "vecs = model.wv.vectors\n",
    "print(vecs.shape)\n",
    "vocas = model.wv.index_to_key\n",
    "print(len(vocas))"
   ]
  },
  {
   "cell_type": "code",
   "execution_count": 12,
   "metadata": {},
   "outputs": [
    {
     "data": {
      "text/plain": [
       "[',',\n",
       " 'of',\n",
       " 'which',\n",
       " 'the',\n",
       " 'to',\n",
       " 'is',\n",
       " 'and',\n",
       " 'relating',\n",
       " 'whom',\n",
       " 'was',\n",
       " 'in',\n",
       " 'he',\n",
       " 'it',\n",
       " 'a',\n",
       " 'be',\n",
       " 'were',\n",
       " 'have',\n",
       " 'relative',\n",
       " 'are',\n",
       " 'that']"
      ]
     },
     "execution_count": 12,
     "metadata": {},
     "output_type": "execute_result"
    }
   ],
   "source": [
    "vocas[:20]"
   ]
  },
  {
   "cell_type": "code",
   "execution_count": 13,
   "metadata": {},
   "outputs": [
    {
     "data": {
      "text/plain": [
       "['inauguration',\n",
       " 'retorted',\n",
       " 'manaps',\n",
       " 'intercedes',\n",
       " 'twined',\n",
       " 'poynter',\n",
       " 'deserting',\n",
       " 'peach',\n",
       " 'lhut',\n",
       " 'inflict',\n",
       " 'roused',\n",
       " 'dimples',\n",
       " 'sandys',\n",
       " 'peti',\n",
       " 'hooker',\n",
       " 'fats',\n",
       " 'descendibility',\n",
       " 'schooner',\n",
       " 'diction',\n",
       " 'bedouins']"
      ]
     },
     "execution_count": 13,
     "metadata": {},
     "output_type": "execute_result"
    }
   ],
   "source": [
    "vocas[-20:]"
   ]
  },
  {
   "cell_type": "code",
   "execution_count": 14,
   "metadata": {},
   "outputs": [
    {
     "data": {
      "text/plain": [
       "[('beliefs', 0.7120836973190308),\n",
       " ('charitable', 0.7067293524742126),\n",
       " ('educational', 0.6680408716201782),\n",
       " ('social', 0.6635957956314087),\n",
       " ('religions', 0.6414933800697327),\n",
       " ('traditions', 0.6206099987030029),\n",
       " ('philanthropic', 0.6169846653938293),\n",
       " ('institutions', 0.6167535781860352),\n",
       " ('conceptions', 0.6166873574256897),\n",
       " ('political', 0.6162667870521545)]"
      ]
     },
     "execution_count": 14,
     "metadata": {},
     "output_type": "execute_result"
    }
   ],
   "source": [
    "model.wv.most_similar(\"religious\")"
   ]
  },
  {
   "cell_type": "code",
   "execution_count": 15,
   "metadata": {},
   "outputs": [
    {
     "data": {
      "text/plain": [
       "[('happiness', 0.7346567511558533),\n",
       " ('sing', 0.7267827391624451),\n",
       " ('grandeurs', 0.7116498351097107),\n",
       " ('prosperity', 0.6994046568870544),\n",
       " ('glory', 0.6884211897850037),\n",
       " ('genius', 0.6855446100234985),\n",
       " ('sin', 0.6826969385147095),\n",
       " ('consolation', 0.680324375629425),\n",
       " ('allusions', 0.6769882440567017),\n",
       " ('fortunate', 0.6767494678497314)]"
      ]
     },
     "execution_count": 15,
     "metadata": {},
     "output_type": "execute_result"
    }
   ],
   "source": [
    "model.wv.most_similar(\"hope\")"
   ]
  }
 ],
 "metadata": {
  "kernelspec": {
   "display_name": "Python 3",
   "language": "python",
   "name": "python3"
  },
  "language_info": {
   "codemirror_mode": {
    "name": "ipython",
    "version": 3
   },
   "file_extension": ".py",
   "mimetype": "text/x-python",
   "name": "python",
   "nbconvert_exporter": "python",
   "pygments_lexer": "ipython3",
   "version": "3.11.4"
  },
  "orig_nbformat": 4
 },
 "nbformat": 4,
 "nbformat_minor": 2
}
